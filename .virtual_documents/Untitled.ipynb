#basic imports
import pandas as pd
import matplotlib.pyplot as plt
import numpy as np
from unyt import kW, minute, hr, day, MW
import sys

# osier imports
from osier import DispatchModel
from osier import CapacityExpansion
import osier.tech_library as lib

# pymoo imports
from pymoo.algorithms.moo.nsga2 import NSGA2
from pymoo.optimize import minimize

# automatically set the solver
if "darwin" in sys.platform:
    solver = 'cplex_direct'
elif "linux" in sys.platform:
    solver = "cbc"
else:
    solver = "cbc"

print(f"Solver set: {solver}")


#creating energy mix

#based off osier documentation, we need to include geothermal and add the capacity for coal
#adding capacity of coal, based on research
from osier.tech_library import coal

# modify the capacity
#https://www.epa.gov/system/files/documents/2023-05/Power%20Sector%20Trends%20TSD.pdf
coal.capacity = 893*MW
display(coal)

#finally, create the necessary energy mix
UIUC_mix = [lib.natural_gas,lib.coal,lib.solar]
display(UIUC_mix)


n_hours = 24  # hours per day
n_days = 1  # days to model
N = n_hours*n_days  # total number of time steps
phase_shift = 0  # horizontal shift [radians]
base_shift = 2  # vertical shift [units of demand]
hours = np.linspace(0,N,N)
total_demand = 328.16  # [MWh], sets the total demand [units of energy]

demand = (np.sin((hours*np.pi/n_hours*2+phase_shift))*-1+np.ones(N)*(base_shift+1))

np.random.seed(1234) # sets the seed for repeatability

noise = np.random.random(N)
demand += noise

demand = demand/demand.sum() * total_demand  # rescale

with plt.style.context("dark_background"):
    plt.plot(hours, demand, color='cyan')
    plt.ylabel('Demand [MW]')
    plt.grid(alpha=0.2)
    plt.show()


url = "https://raw.githubusercontent.com/samgdotson/2021-dotson-ms/refs/heads/master/data/solarfarm_data.csv"
solar_power = pd.read_csv(url, usecols=['time', 'kw'], parse_dates=True, index_col='time')

# choose a single day
solar_day = solar_power.loc['2016-07-01']
solar_day.plot();plt.show()
solar_day_ener = [0,0,0,0,0,22.15,
                  223.25,1052.75,2368.25,3433,3406.75,4161.75,
                  3634.5,4030.25,3545,3090,3165.75,1637.75,
                  940,273.25,18.0475,0,0,0]
df_solar = pd.DataFrame(solar_day_ener, columns=['Energy'])


#normalizing solar data
norm_solar_data = solar_day/solar_day.max()
norm_solar_data.plot();plt.show()


solar_ener = df_solar['Energy'].values
solar_ener


#now wanting to do a multi-objective run
#considered total cost, lets consider limitng CO2 emissions
from osier import annual_emission, total_cost
problem2 = CapacityExpansion(technology_list = UIUC_mix,
                            demand=demand*MW,
                            solar=solar_ener,
                            upper_bound= 1 / lib.solar.capacity_credit,
                            objectives = [total_cost,annual_emission],
                            solver=solver)  # the objectives must be passed as a LIST of functions!


algorithm = NSGA2(pop_size=20)

import time
start = time.perf_counter()
res = minimize(problem2,
               algorithm,
               termination=('n_gen', 10),
               seed=1,
               save_history=True,
               verbose=True)
end = time.perf_counter()
print(f"The simulation took {(end-start)/60:.3f} minutes.")


technologies = []
for X,tech in zip(res.X,problem2.technology_list):
    tech.capacity = X*problem2.max_demand
    technologies.append(tech)
display(technologies)
#normalize the solar energy array
solar_ener = (solar_ener / solar_ener.max()) * res.X[2]*problem2.max_demand
net_dem = demand*MW - solar_ener
display(f"Max solar production: {solar_ener.max()}")

model = DispatchModel(technology_list=[technologies[0],technologies[1],technologies[2]],
                      net_demand=net_dem)
model.solve(solver=solver)
model.results



#displaying multi-objective results
display(res.F)


with plt.style.context('dark_background'):
    fig, ax = plt.subplots(1,1,figsize=(6,4))

    ax.scatter(res.F[:,0], res.F[:,1], edgecolors='red', facecolors='k')
    ax.set_ylabel(r"Lifecycle CO$_2$ Emissions [MT/MWh]")
    ax.set_xlabel(r"Total Cost [M\$]")
    ax.grid(alpha=0.2)

    plt.show()


from osier import get_tech_names
with plt.style.context('dark_background'):
    fig, ax = plt.subplots(1,1,figsize=(6,4))

    bplot = ax.boxplot(res.X,
                       patch_artist=True,
                       tick_labels=get_tech_names(problem2.technology_list))
    ax.set_ylabel("Fraction of Peak Demand")

    # fill with colors
    colors = ['tab:blue', 'tab:orange', 'tab:green']
    for patch, color in zip(bplot['boxes'], colors):
        patch.set_facecolor(color)

    for median in bplot['medians']:
        median.set_color('red')

    ax.yaxis.grid(True, alpha=0.2)
    plt.show()



